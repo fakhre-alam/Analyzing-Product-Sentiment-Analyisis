{
 "cells": [
  {
   "cell_type": "markdown",
   "metadata": {},
   "source": [
    "## Introduction\n",
    "\n",
    "The intention of this notebook is to utilize tensorflow to build a neural network that helps to predict default likelihood, and to visualize some of the insights generated from the study"
   ]
  },
  {
   "cell_type": "markdown",
   "metadata": {},
   "source": [
    "\n",
    "## Dependencies\n",
    "\n",
    "Below the data and some external libraries are imported to begin the process\n"
   ]
  },
  {
   "cell_type": "code",
   "execution_count": 7,
   "metadata": {
    "collapsed": false
   },
   "outputs": [],
   "source": [
    "#%matplotlib inline\n",
    "import numpy as np\n",
    "import pandas as pd\n",
    "import itertools\n",
    "from sklearn import preprocessing\n",
    "import matplotlib.pyplot as plt\n",
    "from __future__ import absolute_import\n",
    "from __future__ import division\n",
    "from __future__ import print_function\n",
    "import tensorflow as tf\n",
    "from tensorflow.contrib.learn.python.learn import metric_spec\n",
    "from tensorflow.contrib.learn.python.learn.estimators import _sklearn\n",
    "from tensorflow.contrib.learn.python.learn.estimators import estimator\n",
    "from tensorflow.contrib.learn.python.learn.estimators import model_fn\n",
    "from tensorflow.python.framework import ops\n",
    "from tensorflow.python.saved_model import loader\n",
    "from tensorflow.python.saved_model import tag_constants\n",
    "from tensorflow.python.util import compat\n",
    "tf.logging.set_verbosity(tf.logging.FATAL) "
   ]
  },
  {
   "cell_type": "code",
   "execution_count": 8,
   "metadata": {
    "collapsed": true
   },
   "outputs": [],
   "source": [
    "df = pd.read_csv('/home/alam/Downloads/DataNew.csv')"
   ]
  },
  {
   "cell_type": "markdown",
   "metadata": {
    "collapsed": true
   },
   "source": [
    "\n",
    "## Creating the Target Label\n",
    "\n",
    "From a prior notebook, I examined the 'loan_status' column. The cell below creates a column with binary value 0 for loans not in default, and binary value 1 for loans in default.\n"
   ]
  },
  {
   "cell_type": "code",
   "execution_count": 65,
   "metadata": {
    "collapsed": false
   },
   "outputs": [],
   "source": [
    "df['Default_Binary'] = int(0)\n",
    "for index, value in df.Default_On_Payment.iteritems():\n",
    "    if value == 'Default':\n",
    "        df.set_value(index,'Default_Binary',int(1))\n",
    "    if value == 'Charged Off':\n",
    "        df.set_value(index, 'Default_Binary',int(1))\n",
    "    if value == 'Late (31-120 days)':\n",
    "        df.set_value(index, 'Default_Binary',int(1))    \n",
    "    if value == 'Late (16-30 days)':\n",
    "        df.set_value(index, 'Default_Binary',int(1))\n",
    "    if value == 'Does not meet the credit policy. Status:Charged Off':\n",
    "        df.set_value(index, 'Default_Binary',int(1))  "
   ]
  },
  {
   "cell_type": "markdown",
   "metadata": {},
   "source": [
    "\n",
    "## Creating a category feature for \"Loan Purpose\"\n",
    "\n",
    "Below I create a new column for loan purpose, and assign each type of loan purpose an integer value.\n"
   ]
  },
  {
   "cell_type": "code",
   "execution_count": 66,
   "metadata": {
    "collapsed": true
   },
   "outputs": [],
   "source": [
    "df['Purpose_Cat'] = int(0) \n",
    "for index, value in df.Purpose_Credit_Taken.iteritems():\n",
    "    if value == 'Vehicle':\n",
    "        df.set_value(index,'Purpose_Cat',int(1))\n",
    "    if value == 'Furniture':\n",
    "        df.set_value(index, 'Purpose_Cat',int(2))\n",
    "    if value == 'Electronics Appliances':\n",
    "        df.set_value(index, 'Purpose_Cat',int(3))    \n",
    "    if value == 'Vacation':\n",
    "        df.set_value(index, 'Purpose_Cat',int(4))    \n",
    "    if value == 'Repairs':\n",
    "        df.set_value(index,'Purpose_Cat',int(5))\n",
    "    if value == 'Remodeling house':\n",
    "        df.set_value(index, 'Purpose_Cat',int(6))\n",
    "    if value == 'Education':\n",
    "        df.set_value(index, 'Purpose_Cat',int(7))    \n",
    "    if value == 'Training':\n",
    "        df.set_value(index, 'Purpose_Cat',int(8))   \n",
    "    if value == 'Business':\n",
    "        df.set_value(index, 'Purpose_Cat',int(9))    \n",
    "    if value == 'Others':\n",
    "        df.set_value(index,'Purpose_Cat',int(10))\n",
    "    "
   ]
  },
  {
   "cell_type": "markdown",
   "metadata": {},
   "source": [
    "## Scaling Number Credit\n"
   ]
  },
  {
   "cell_type": "code",
   "execution_count": 54,
   "metadata": {
    "collapsed": false
   },
   "outputs": [],
   "source": [
    "#x = np.array(df.Num_Dependents.values).reshape(-1,1) \n",
    "#min_max_scaler = preprocessing.MinMaxScaler()\n",
    "#x_scaled = min_max_scaler.fit_transform(x)\n",
    "#df['Num_Dependents_scaled'] = pd.DataFrame(x_scaled)\n",
    "#print (df.Credit_Amount_scaled[0:5])"
   ]
  },
  {
   "cell_type": "markdown",
   "metadata": {},
   "source": [
    "\n",
    "## Scaling Loan Amount\n",
    "\n",
    "Below I scale the amount funded for each loan to a value between 0 and 1\n",
    "\n"
   ]
  },
  {
   "cell_type": "code",
   "execution_count": 67,
   "metadata": {
    "collapsed": false
   },
   "outputs": [
    {
     "name": "stdout",
     "output_type": "stream",
     "text": [
      "0    0.202982\n",
      "1    0.085012\n",
      "2    0.324254\n",
      "3    0.133432\n",
      "4    0.667932\n",
      "Name: Credit_Amount_scaled, dtype: float64\n"
     ]
    }
   ],
   "source": [
    "x = np.array(df.Credit_Amount.values).reshape(-1,1) \n",
    "min_max_scaler = preprocessing.MinMaxScaler()\n",
    "x_scaled = min_max_scaler.fit_transform(x)\n",
    "df['Credit_Amount_scaled'] = pd.DataFrame(x_scaled)\n",
    "print (df.Credit_Amount_scaled[0:5])"
   ]
  },
  {
   "cell_type": "markdown",
   "metadata": {},
   "source": [
    "\n",
    "## Setting up the Neural Network\n",
    "\n",
    "Below I split the data into a training, testing, and prediction set\n",
    "\n",
    "After that, I assign the feature and target columns, and create the function that will be used to pass the data into the model\n"
   ]
  },
  {
   "cell_type": "code",
   "execution_count": 15,
   "metadata": {
    "collapsed": true
   },
   "outputs": [],
   "source": [
    "training_set = df[0:3000] # Train on first 500k rows\n",
    "testing_set = df[3001:4500] # Test on next 350k rows\n",
    "prediction_set = df[4500:] # Predict on final 37k rows"
   ]
  },
  {
   "cell_type": "code",
   "execution_count": 68,
   "metadata": {
    "collapsed": true
   },
   "outputs": [],
   "source": [
    "COLUMNS = ['Purpose_Cat','Credit_Amount_scaled','Default_Binary']          \n",
    "FEATURES = ['Purpose_Cat','Credit_Amount_scaled']\n",
    "LABEL = 'Default_Binary'"
   ]
  },
  {
   "cell_type": "code",
   "execution_count": 69,
   "metadata": {
    "collapsed": true
   },
   "outputs": [],
   "source": [
    "def input_fn(data_set):\n",
    "    feature_cols = {k: tf.constant(data_set[k].values) for k in FEATURES} \n",
    "    labels = tf.constant(data_set[LABEL].values)\n",
    "    return feature_cols, labels"
   ]
  },
  {
   "cell_type": "markdown",
   "metadata": {},
   "source": [
    "## Fitting The Model "
   ]
  },
  {
   "cell_type": "code",
   "execution_count": 70,
   "metadata": {
    "collapsed": false
   },
   "outputs": [
    {
     "data": {
      "text/plain": [
       "DNNRegressor(params={'head': <tensorflow.contrib.learn.python.learn.estimators.head._RegressionHead object at 0x7f11abb454d0>, 'hidden_units': [10, 20, 10], 'feature_columns': (_RealValuedColumn(column_name='Purpose_Cat', dimension=1, default_value=None, dtype=tf.float32, normalizer=None), _RealValuedColumn(column_name='Credit_Amount_scaled', dimension=1, default_value=None, dtype=tf.float32, normalizer=None)), 'embedding_lr_multipliers': None, 'optimizer': None, 'dropout': None, 'gradient_clip_norm': None, 'activation_fn': <function relu at 0x7f11b7b10488>, 'input_layer_min_slice_size': None})"
      ]
     },
     "execution_count": 70,
     "metadata": {},
     "output_type": "execute_result"
    }
   ],
   "source": [
    "feature_cols = [tf.contrib.layers.real_valued_column(k)\n",
    "              for k in FEATURES]\n",
    "#config = tf.contrib.learn.RunConfig(keep_checkpoint_max=1) ######## DO NOT DELETE\n",
    "regressor = tf.contrib.learn.DNNRegressor(\n",
    "  feature_columns=feature_cols, hidden_units=[10, 20, 10], ) \n",
    "regressor.fit(input_fn=lambda: input_fn(training_set), steps=251)"
   ]
  },
  {
   "cell_type": "markdown",
   "metadata": {},
   "source": [
    "## Evaluating the Model "
   ]
  },
  {
   "cell_type": "code",
   "execution_count": 71,
   "metadata": {
    "collapsed": false
   },
   "outputs": [
    {
     "name": "stdout",
     "output_type": "stream",
     "text": [
      "Loss: 0.000006\n"
     ]
    }
   ],
   "source": [
    "# Score accuracy\n",
    "ev = regressor.evaluate(input_fn=lambda: input_fn(testing_set), steps=10)\n",
    "loss_score = ev[\"loss\"]\n",
    "print(\"Loss: {0:f}\".format(loss_score))"
   ]
  },
  {
   "cell_type": "markdown",
   "metadata": {},
   "source": [
    "## Predicting on new data "
   ]
  },
  {
   "cell_type": "code",
   "execution_count": 72,
   "metadata": {
    "collapsed": true
   },
   "outputs": [],
   "source": [
    "y = regressor.predict(input_fn=lambda: input_fn(prediction_set))\n",
    "predictions = list(itertools.islice(y, 500))\n"
   ]
  },
  {
   "cell_type": "markdown",
   "metadata": {},
   "source": [
    "## Visualize Predictions Relative to Loan Purpose "
   ]
  },
  {
   "cell_type": "code",
   "execution_count": 73,
   "metadata": {
    "collapsed": false
   },
   "outputs": [
    {
     "data": {
      "image/png": "[encoded data removed]",
      "text/plain": [
       "<matplotlib.figure.Figure at 0x7f11abb61e50>"
      ]
     },
     "metadata": {},
     "output_type": "display_data"
    }
   ],
   "source": [
    "plt.plot(prediction_set.Purpose_Cat, predictions, 'ro')\n",
    "plt.ylabel(\"Default Prediction Value\")\n",
    "plt.xlabel(\"Loan Purpose\")\n",
    "plt.title(\"DNN Regressor Predicting Default By Loan Purpose\")\n",
    "fig_size = plt.rcParams[\"figure.figsize\"]\n",
    "fig_size[0] = 10\n",
    "fig_size[1] = 10\n",
    "plt.rcParams[\"figure.figsize\"] = fig_size\n",
    "labels = ['Vehicle', 'Furniture', 'Electronics Appliances', 'Vacation',\n",
    "         'Repairs', 'Remodeling house', 'Education', 'Training',\n",
    "         'Business', 'Others'\n",
    "         ]\n",
    "\n",
    "plt.xticks([1,2,3,4,5,6,7,8,9,10], labels, rotation='vertical')\n",
    "\n",
    "plt.show()"
   ]
  },
  {
   "cell_type": "markdown",
   "metadata": {},
   "source": [
    "## Visualize Predictions Relative to Loan Size "
   ]
  },
  {
   "cell_type": "code",
   "execution_count": 74,
   "metadata": {
    "collapsed": false
   },
   "outputs": [
    {
     "data": {
      "image/png": "[encoded data removed]",
      "text/plain": [
       "<matplotlib.figure.Figure at 0x7f11abb509d0>"
      ]
     },
     "metadata": {},
     "output_type": "display_data"
    }
   ],
   "source": [
    "plt.plot(prediction_set.Credit_Amount_scaled, predictions, 'ro')\n",
    "plt.ylabel(\"Model Prediction Value\")\n",
    "plt.xlabel(\" Loan Amount(Scaled between 0-1)\")\n",
    "plt.show()"
   ]
  },
  {
   "cell_type": "code",
   "execution_count": null,
   "metadata": {
    "collapsed": true
   },
   "outputs": [],
   "source": []
  }
 ],
 "metadata": {
  "kernelspec": {
   "display_name": "Python 2",
   "language": "python",
   "name": "python2"
  },
  "language_info": {
   "codemirror_mode": {
    "name": "ipython",
    "version": 2
   },
   "file_extension": ".py",
   "mimetype": "text/x-python",
   "name": "python",
   "nbconvert_exporter": "python",
   "pygments_lexer": "ipython2",
   "version": "2.7.13"
  }
 },
 "nbformat": 4,
 "nbformat_minor": 2
}
